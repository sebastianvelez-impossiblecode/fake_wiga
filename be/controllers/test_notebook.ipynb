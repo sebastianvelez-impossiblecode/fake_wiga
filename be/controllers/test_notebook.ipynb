{
 "cells": [
  {
   "cell_type": "code",
   "execution_count": 1,
   "metadata": {},
   "outputs": [],
   "source": [
    "sd = {'a':1,'b':2}"
   ]
  },
  {
   "cell_type": "code",
   "execution_count": 2,
   "metadata": {},
   "outputs": [
    {
     "ename": "KeyError",
     "evalue": "'c'",
     "output_type": "error",
     "traceback": [
      "\u001b[0;31m---------------------------------------------------------------------------\u001b[0m",
      "\u001b[0;31mKeyError\u001b[0m                                  Traceback (most recent call last)",
      "Cell \u001b[0;32mIn[2], line 1\u001b[0m\n\u001b[0;32m----> 1\u001b[0m sd[\u001b[39m'\u001b[39;49m\u001b[39mc\u001b[39;49m\u001b[39m'\u001b[39;49m]\n",
      "\u001b[0;31mKeyError\u001b[0m: 'c'"
     ]
    }
   ],
   "source": [
    "sd['c']"
   ]
  },
  {
   "cell_type": "code",
   "execution_count": 3,
   "metadata": {},
   "outputs": [],
   "source": [
    "fec = \"2020-01-26 00:00:01\""
   ]
  },
  {
   "cell_type": "code",
   "execution_count": 4,
   "metadata": {},
   "outputs": [
    {
     "data": {
      "text/plain": [
       "'2020-01-26'"
      ]
     },
     "execution_count": 4,
     "metadata": {},
     "output_type": "execute_result"
    }
   ],
   "source": [
    "fec.split(' ')[0]"
   ]
  },
  {
   "cell_type": "code",
   "execution_count": 5,
   "metadata": {},
   "outputs": [],
   "source": [
    "import pandas as pd"
   ]
  },
  {
   "cell_type": "code",
   "execution_count": 18,
   "metadata": {},
   "outputs": [
    {
     "data": {
      "text/html": [
       "<div>\n",
       "<style scoped>\n",
       "    .dataframe tbody tr th:only-of-type {\n",
       "        vertical-align: middle;\n",
       "    }\n",
       "\n",
       "    .dataframe tbody tr th {\n",
       "        vertical-align: top;\n",
       "    }\n",
       "\n",
       "    .dataframe thead th {\n",
       "        text-align: right;\n",
       "    }\n",
       "</style>\n",
       "<table border=\"1\" class=\"dataframe\">\n",
       "  <thead>\n",
       "    <tr style=\"text-align: right;\">\n",
       "      <th></th>\n",
       "      <th>date</th>\n",
       "      <th>number</th>\n",
       "    </tr>\n",
       "  </thead>\n",
       "  <tbody>\n",
       "    <tr>\n",
       "      <th>0</th>\n",
       "      <td>2022-02-04</td>\n",
       "      <td>20</td>\n",
       "    </tr>\n",
       "    <tr>\n",
       "      <th>1</th>\n",
       "      <td>2022-02-05</td>\n",
       "      <td>30</td>\n",
       "    </tr>\n",
       "  </tbody>\n",
       "</table>\n",
       "</div>"
      ],
      "text/plain": [
       "        date  number\n",
       "0 2022-02-04      20\n",
       "1 2022-02-05      30"
      ]
     },
     "execution_count": 18,
     "metadata": {},
     "output_type": "execute_result"
    }
   ],
   "source": [
    "df = pd.DataFrame([['2022-02-04',20],['2022-02-05',30]],columns=['date','number'])\n",
    "df['date'] = pd.to_datetime(df['date'])\n",
    "df"
   ]
  },
  {
   "cell_type": "code",
   "execution_count": 21,
   "metadata": {},
   "outputs": [
    {
     "data": {
      "text/plain": [
       "0    2022-02-04\n",
       "1    2022-02-05\n",
       "Name: date, dtype: object"
      ]
     },
     "execution_count": 21,
     "metadata": {},
     "output_type": "execute_result"
    }
   ],
   "source": [
    "df['date'].astype(str)"
   ]
  },
  {
   "cell_type": "code",
   "execution_count": 20,
   "metadata": {},
   "outputs": [
    {
     "data": {
      "text/plain": [
       "[{'date': Timestamp('2022-02-04 00:00:00'), 'number': 20},\n",
       " {'date': Timestamp('2022-02-05 00:00:00'), 'number': 30}]"
      ]
     },
     "execution_count": 20,
     "metadata": {},
     "output_type": "execute_result"
    }
   ],
   "source": [
    "df.to_dict(orient='records')"
   ]
  },
  {
   "cell_type": "code",
   "execution_count": 23,
   "metadata": {},
   "outputs": [],
   "source": [
    "df = pd.read_excel(\n",
    "    '/home/sebastian/mathmax/fake_wiga/be/controllers/stored_data/weather_update_test.xlsx'\n",
    ")"
   ]
  },
  {
   "cell_type": "code",
   "execution_count": 24,
   "metadata": {},
   "outputs": [
    {
     "data": {
      "text/html": [
       "<div>\n",
       "<style scoped>\n",
       "    .dataframe tbody tr th:only-of-type {\n",
       "        vertical-align: middle;\n",
       "    }\n",
       "\n",
       "    .dataframe tbody tr th {\n",
       "        vertical-align: top;\n",
       "    }\n",
       "\n",
       "    .dataframe thead th {\n",
       "        text-align: right;\n",
       "    }\n",
       "</style>\n",
       "<table border=\"1\" class=\"dataframe\">\n",
       "  <thead>\n",
       "    <tr style=\"text-align: right;\">\n",
       "      <th></th>\n",
       "      <th>Fecha</th>\n",
       "      <th>Hora</th>\n",
       "      <th>Humedad Relativa EST Caribe - Antioquia %</th>\n",
       "      <th>Radiación Par EST Caribe - Antioquia µmol m-2 s-1</th>\n",
       "      <th>Temperatura EST Caribe - Antioquia °C</th>\n",
       "    </tr>\n",
       "  </thead>\n",
       "  <tbody>\n",
       "    <tr>\n",
       "      <th>0</th>\n",
       "      <td>2022-11-08</td>\n",
       "      <td>23:45</td>\n",
       "      <td>95.1</td>\n",
       "      <td>0.0</td>\n",
       "      <td>13.1</td>\n",
       "    </tr>\n",
       "    <tr>\n",
       "      <th>1</th>\n",
       "      <td>2022-11-08</td>\n",
       "      <td>23:30</td>\n",
       "      <td>95.3</td>\n",
       "      <td>0.0</td>\n",
       "      <td>13.1</td>\n",
       "    </tr>\n",
       "    <tr>\n",
       "      <th>2</th>\n",
       "      <td>2022-11-08</td>\n",
       "      <td>23:15</td>\n",
       "      <td>95.8</td>\n",
       "      <td>0.0</td>\n",
       "      <td>13.1</td>\n",
       "    </tr>\n",
       "    <tr>\n",
       "      <th>3</th>\n",
       "      <td>2022-11-08</td>\n",
       "      <td>23:00</td>\n",
       "      <td>96.2</td>\n",
       "      <td>0.0</td>\n",
       "      <td>13.2</td>\n",
       "    </tr>\n",
       "    <tr>\n",
       "      <th>4</th>\n",
       "      <td>2022-11-08</td>\n",
       "      <td>22:45</td>\n",
       "      <td>96.6</td>\n",
       "      <td>0.0</td>\n",
       "      <td>13.3</td>\n",
       "    </tr>\n",
       "    <tr>\n",
       "      <th>...</th>\n",
       "      <td>...</td>\n",
       "      <td>...</td>\n",
       "      <td>...</td>\n",
       "      <td>...</td>\n",
       "      <td>...</td>\n",
       "    </tr>\n",
       "    <tr>\n",
       "      <th>164656</th>\n",
       "      <td>2018-01-01</td>\n",
       "      <td>02:00</td>\n",
       "      <td>97.4</td>\n",
       "      <td>0.0</td>\n",
       "      <td>13.5</td>\n",
       "    </tr>\n",
       "    <tr>\n",
       "      <th>164657</th>\n",
       "      <td>2018-01-01</td>\n",
       "      <td>01:30</td>\n",
       "      <td>97.4</td>\n",
       "      <td>0.0</td>\n",
       "      <td>13.5</td>\n",
       "    </tr>\n",
       "    <tr>\n",
       "      <th>164658</th>\n",
       "      <td>2018-01-01</td>\n",
       "      <td>01:00</td>\n",
       "      <td>97.3</td>\n",
       "      <td>0.0</td>\n",
       "      <td>13.2</td>\n",
       "    </tr>\n",
       "    <tr>\n",
       "      <th>164659</th>\n",
       "      <td>2018-01-01</td>\n",
       "      <td>00:30</td>\n",
       "      <td>97.3</td>\n",
       "      <td>0.0</td>\n",
       "      <td>13.2</td>\n",
       "    </tr>\n",
       "    <tr>\n",
       "      <th>164660</th>\n",
       "      <td>2018-01-01</td>\n",
       "      <td>00:00</td>\n",
       "      <td>97.4</td>\n",
       "      <td>0.0</td>\n",
       "      <td>13.0</td>\n",
       "    </tr>\n",
       "  </tbody>\n",
       "</table>\n",
       "<p>164661 rows × 5 columns</p>\n",
       "</div>"
      ],
      "text/plain": [
       "             Fecha   Hora  Humedad Relativa EST Caribe - Antioquia %  \\\n",
       "0       2022-11-08  23:45                                       95.1   \n",
       "1       2022-11-08  23:30                                       95.3   \n",
       "2       2022-11-08  23:15                                       95.8   \n",
       "3       2022-11-08  23:00                                       96.2   \n",
       "4       2022-11-08  22:45                                       96.6   \n",
       "...            ...    ...                                        ...   \n",
       "164656  2018-01-01  02:00                                       97.4   \n",
       "164657  2018-01-01  01:30                                       97.4   \n",
       "164658  2018-01-01  01:00                                       97.3   \n",
       "164659  2018-01-01  00:30                                       97.3   \n",
       "164660  2018-01-01  00:00                                       97.4   \n",
       "\n",
       "        Radiación Par EST Caribe - Antioquia µmol m-2 s-1  \\\n",
       "0                                                     0.0   \n",
       "1                                                     0.0   \n",
       "2                                                     0.0   \n",
       "3                                                     0.0   \n",
       "4                                                     0.0   \n",
       "...                                                   ...   \n",
       "164656                                                0.0   \n",
       "164657                                                0.0   \n",
       "164658                                                0.0   \n",
       "164659                                                0.0   \n",
       "164660                                                0.0   \n",
       "\n",
       "        Temperatura EST Caribe - Antioquia °C  \n",
       "0                                        13.1  \n",
       "1                                        13.1  \n",
       "2                                        13.1  \n",
       "3                                        13.2  \n",
       "4                                        13.3  \n",
       "...                                       ...  \n",
       "164656                                   13.5  \n",
       "164657                                   13.5  \n",
       "164658                                   13.2  \n",
       "164659                                   13.2  \n",
       "164660                                   13.0  \n",
       "\n",
       "[164661 rows x 5 columns]"
      ]
     },
     "execution_count": 24,
     "metadata": {},
     "output_type": "execute_result"
    }
   ],
   "source": [
    "df"
   ]
  },
  {
   "cell_type": "code",
   "execution_count": 28,
   "metadata": {},
   "outputs": [],
   "source": [
    "df['space'] = ' '\n",
    "df['time'] = df['Fecha']+df['space']+df['Hora']"
   ]
  },
  {
   "cell_type": "code",
   "execution_count": 29,
   "metadata": {},
   "outputs": [],
   "source": [
    "df['time'] = pd.to_datetime(df['time'])"
   ]
  },
  {
   "cell_type": "code",
   "execution_count": 30,
   "metadata": {},
   "outputs": [
    {
     "data": {
      "text/html": [
       "<div>\n",
       "<style scoped>\n",
       "    .dataframe tbody tr th:only-of-type {\n",
       "        vertical-align: middle;\n",
       "    }\n",
       "\n",
       "    .dataframe tbody tr th {\n",
       "        vertical-align: top;\n",
       "    }\n",
       "\n",
       "    .dataframe thead th {\n",
       "        text-align: right;\n",
       "    }\n",
       "</style>\n",
       "<table border=\"1\" class=\"dataframe\">\n",
       "  <thead>\n",
       "    <tr style=\"text-align: right;\">\n",
       "      <th></th>\n",
       "      <th>Fecha</th>\n",
       "      <th>Hora</th>\n",
       "      <th>Humedad Relativa EST Caribe - Antioquia %</th>\n",
       "      <th>Radiación Par EST Caribe - Antioquia µmol m-2 s-1</th>\n",
       "      <th>Temperatura EST Caribe - Antioquia °C</th>\n",
       "      <th>time</th>\n",
       "      <th>space</th>\n",
       "    </tr>\n",
       "  </thead>\n",
       "  <tbody>\n",
       "    <tr>\n",
       "      <th>0</th>\n",
       "      <td>2022-11-08</td>\n",
       "      <td>23:45</td>\n",
       "      <td>95.1</td>\n",
       "      <td>0.0</td>\n",
       "      <td>13.1</td>\n",
       "      <td>2022-11-08 23:45:00</td>\n",
       "      <td></td>\n",
       "    </tr>\n",
       "    <tr>\n",
       "      <th>1</th>\n",
       "      <td>2022-11-08</td>\n",
       "      <td>23:30</td>\n",
       "      <td>95.3</td>\n",
       "      <td>0.0</td>\n",
       "      <td>13.1</td>\n",
       "      <td>2022-11-08 23:30:00</td>\n",
       "      <td></td>\n",
       "    </tr>\n",
       "    <tr>\n",
       "      <th>2</th>\n",
       "      <td>2022-11-08</td>\n",
       "      <td>23:15</td>\n",
       "      <td>95.8</td>\n",
       "      <td>0.0</td>\n",
       "      <td>13.1</td>\n",
       "      <td>2022-11-08 23:15:00</td>\n",
       "      <td></td>\n",
       "    </tr>\n",
       "    <tr>\n",
       "      <th>3</th>\n",
       "      <td>2022-11-08</td>\n",
       "      <td>23:00</td>\n",
       "      <td>96.2</td>\n",
       "      <td>0.0</td>\n",
       "      <td>13.2</td>\n",
       "      <td>2022-11-08 23:00:00</td>\n",
       "      <td></td>\n",
       "    </tr>\n",
       "    <tr>\n",
       "      <th>4</th>\n",
       "      <td>2022-11-08</td>\n",
       "      <td>22:45</td>\n",
       "      <td>96.6</td>\n",
       "      <td>0.0</td>\n",
       "      <td>13.3</td>\n",
       "      <td>2022-11-08 22:45:00</td>\n",
       "      <td></td>\n",
       "    </tr>\n",
       "    <tr>\n",
       "      <th>...</th>\n",
       "      <td>...</td>\n",
       "      <td>...</td>\n",
       "      <td>...</td>\n",
       "      <td>...</td>\n",
       "      <td>...</td>\n",
       "      <td>...</td>\n",
       "      <td>...</td>\n",
       "    </tr>\n",
       "    <tr>\n",
       "      <th>164656</th>\n",
       "      <td>2018-01-01</td>\n",
       "      <td>02:00</td>\n",
       "      <td>97.4</td>\n",
       "      <td>0.0</td>\n",
       "      <td>13.5</td>\n",
       "      <td>2018-01-01 02:00:00</td>\n",
       "      <td></td>\n",
       "    </tr>\n",
       "    <tr>\n",
       "      <th>164657</th>\n",
       "      <td>2018-01-01</td>\n",
       "      <td>01:30</td>\n",
       "      <td>97.4</td>\n",
       "      <td>0.0</td>\n",
       "      <td>13.5</td>\n",
       "      <td>2018-01-01 01:30:00</td>\n",
       "      <td></td>\n",
       "    </tr>\n",
       "    <tr>\n",
       "      <th>164658</th>\n",
       "      <td>2018-01-01</td>\n",
       "      <td>01:00</td>\n",
       "      <td>97.3</td>\n",
       "      <td>0.0</td>\n",
       "      <td>13.2</td>\n",
       "      <td>2018-01-01 01:00:00</td>\n",
       "      <td></td>\n",
       "    </tr>\n",
       "    <tr>\n",
       "      <th>164659</th>\n",
       "      <td>2018-01-01</td>\n",
       "      <td>00:30</td>\n",
       "      <td>97.3</td>\n",
       "      <td>0.0</td>\n",
       "      <td>13.2</td>\n",
       "      <td>2018-01-01 00:30:00</td>\n",
       "      <td></td>\n",
       "    </tr>\n",
       "    <tr>\n",
       "      <th>164660</th>\n",
       "      <td>2018-01-01</td>\n",
       "      <td>00:00</td>\n",
       "      <td>97.4</td>\n",
       "      <td>0.0</td>\n",
       "      <td>13.0</td>\n",
       "      <td>2018-01-01 00:00:00</td>\n",
       "      <td></td>\n",
       "    </tr>\n",
       "  </tbody>\n",
       "</table>\n",
       "<p>164661 rows × 7 columns</p>\n",
       "</div>"
      ],
      "text/plain": [
       "             Fecha   Hora  Humedad Relativa EST Caribe - Antioquia %  \\\n",
       "0       2022-11-08  23:45                                       95.1   \n",
       "1       2022-11-08  23:30                                       95.3   \n",
       "2       2022-11-08  23:15                                       95.8   \n",
       "3       2022-11-08  23:00                                       96.2   \n",
       "4       2022-11-08  22:45                                       96.6   \n",
       "...            ...    ...                                        ...   \n",
       "164656  2018-01-01  02:00                                       97.4   \n",
       "164657  2018-01-01  01:30                                       97.4   \n",
       "164658  2018-01-01  01:00                                       97.3   \n",
       "164659  2018-01-01  00:30                                       97.3   \n",
       "164660  2018-01-01  00:00                                       97.4   \n",
       "\n",
       "        Radiación Par EST Caribe - Antioquia µmol m-2 s-1  \\\n",
       "0                                                     0.0   \n",
       "1                                                     0.0   \n",
       "2                                                     0.0   \n",
       "3                                                     0.0   \n",
       "4                                                     0.0   \n",
       "...                                                   ...   \n",
       "164656                                                0.0   \n",
       "164657                                                0.0   \n",
       "164658                                                0.0   \n",
       "164659                                                0.0   \n",
       "164660                                                0.0   \n",
       "\n",
       "        Temperatura EST Caribe - Antioquia °C                time space  \n",
       "0                                        13.1 2022-11-08 23:45:00        \n",
       "1                                        13.1 2022-11-08 23:30:00        \n",
       "2                                        13.1 2022-11-08 23:15:00        \n",
       "3                                        13.2 2022-11-08 23:00:00        \n",
       "4                                        13.3 2022-11-08 22:45:00        \n",
       "...                                       ...                 ...   ...  \n",
       "164656                                   13.5 2018-01-01 02:00:00        \n",
       "164657                                   13.5 2018-01-01 01:30:00        \n",
       "164658                                   13.2 2018-01-01 01:00:00        \n",
       "164659                                   13.2 2018-01-01 00:30:00        \n",
       "164660                                   13.0 2018-01-01 00:00:00        \n",
       "\n",
       "[164661 rows x 7 columns]"
      ]
     },
     "execution_count": 30,
     "metadata": {},
     "output_type": "execute_result"
    }
   ],
   "source": [
    "df"
   ]
  },
  {
   "cell_type": "code",
   "execution_count": null,
   "metadata": {},
   "outputs": [],
   "source": []
  }
 ],
 "metadata": {
  "kernelspec": {
   "display_name": ".wigavenv",
   "language": "python",
   "name": "python3"
  },
  "language_info": {
   "codemirror_mode": {
    "name": "ipython",
    "version": 3
   },
   "file_extension": ".py",
   "mimetype": "text/x-python",
   "name": "python",
   "nbconvert_exporter": "python",
   "pygments_lexer": "ipython3",
   "version": "3.10.6"
  },
  "orig_nbformat": 4,
  "vscode": {
   "interpreter": {
    "hash": "da3aee49f6ced280fe91cf2b8ccc1969205dff615f47b7623f9f0290596c5a2e"
   }
  }
 },
 "nbformat": 4,
 "nbformat_minor": 2
}
